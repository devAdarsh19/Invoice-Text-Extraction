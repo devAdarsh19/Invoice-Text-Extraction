{
 "cells": [
  {
   "cell_type": "code",
   "execution_count": 1,
   "metadata": {},
   "outputs": [
    {
     "name": "stderr",
     "output_type": "stream",
     "text": [
      "d:\\InvoiceFieldExtraction\\source\\.venv\\Lib\\site-packages\\paddle\\utils\\cpp_extension\\extension_utils.py:711: UserWarning: No ccache found. Please be aware that recompiling all source files may be required. You can download and install ccache from: https://github.com/ccache/ccache/blob/master/doc/INSTALL.md\n",
      "  warnings.warn(warning_message)\n"
     ]
    }
   ],
   "source": [
    "from paddleocr import PaddleOCR, draw_ocr\n",
    "import cv2\n",
    "import numpy as np\n",
    "import re\n",
    "import os\n",
    "from pdf2image import convert_from_path"
   ]
  },
  {
   "cell_type": "markdown",
   "metadata": {},
   "source": [
    "**MERGE RESULTS ON THE SAME LINE**"
   ]
  },
  {
   "cell_type": "code",
   "execution_count": 2,
   "metadata": {},
   "outputs": [],
   "source": [
    "def merge_ocr_results(ocr_results, y_threshold=20):\n",
    "\n",
    "    # Sort OCR results\n",
    "    ocr_results.sort(key=lambda item: (item[0][0][1], item[0][0][0]))\n",
    "\n",
    "    # print(\"*************Debugging***********\")\n",
    "    # for idx in range(len(ocr_results)):\n",
    "    #     res = ocr_results[idx]\n",
    "    #     for line in res:\n",
    "    #         print(line)\n",
    "\n",
    "    merged_result = []\n",
    "    for idx in range(len(ocr_results)):\n",
    "        res = ocr_results[idx]\n",
    "        for box, (text, conf) in res:\n",
    "            _, y1 = box[0]\n",
    "            # x2, _ = box[1]\n",
    "\n",
    "            if not merged_result:\n",
    "                merged_result.append([box, (text, conf)])\n",
    "                continue\n",
    "\n",
    "            prev_box, (prev_text, prev_conf) = merged_result[-1]\n",
    "            _, prev_y1 = prev_box[0]\n",
    "\n",
    "            # print(f\"DEBUG : x1 - prev_x1 = {x1 - prev_x1}\")\n",
    "            # print(f\"DEBUG : y1 - prev_y1 = {y1 - prev_y1}\")\n",
    "\n",
    "            if abs(y1 - prev_y1) < y_threshold:\n",
    "                merged_txt = prev_text + \" \" + text\n",
    "                avg_conf = (conf + prev_conf) / 2\n",
    "                prev_box[1], prev_box[2] = box[1], box[2]\n",
    "                merged_result[-1] = [prev_box, (merged_txt, avg_conf)]\n",
    "            else:\n",
    "                merged_result.append([box, (text, conf)])\n",
    "\n",
    "    return merged_result"
   ]
  },
  {
   "cell_type": "markdown",
   "metadata": {},
   "source": [
    "**EXTRACT FIELDS USING REGEX PATTERNS**"
   ]
  },
  {
   "cell_type": "code",
   "execution_count": null,
   "metadata": {},
   "outputs": [],
   "source": [
    "def extract_fields(merged_result: list):\n",
    "\n",
    "    date, receipt_no, total_amt, store_name = None, None, None, None\n",
    "\n",
    "    date_pattern = re.compile(\n",
    "        r\"\\b(?:Date[:\\s]*)?(\\d{1,2}[-/]\\d{1,2}[-/]\\d{2,4})\\b|Date[:\\s]*(\\d{1,2}[-/]\\d{1,2}[-/]\\d{2,4})\",\n",
    "        re.IGNORECASE,\n",
    "    )\n",
    "    # date_pattern = re.compile(r'\\b(?:Date[:\\s]*)?(\\d{1,2}[-/]\\d{1,2}[-/]\\d{2,4})\\b', re.IGNORECASE)\n",
    "    total_amount_pattern = re.compile(\n",
    "        r\"TOTAL(?: AMOUNT|AMT\\.?|:)?\\s*(?:RM|USD|\\$)?\\s*(\\d+\\.\\d{2})\", re.IGNORECASE\n",
    "    )\n",
    "    receipt_no_pattern = re.compile(\n",
    "        r\"(?:Receipt No|Invoice No|Invoice#|Inv#|Bill No|Document No|Room No|Doc No).*?(\\S+)\",\n",
    "        re.IGNORECASE\n",
    "    )\n",
    "    store_name_keywords = [\"HOME\", \"STORE\", \"SHOP\", \"MARKET\", \"GIFT\", \"MART\", \"RETAIL\"]\n",
    "\n",
    "    for entry in merged_result:\n",
    "        text = entry[1][0].strip()\n",
    "\n",
    "        # Date\n",
    "        if not date:\n",
    "            date_match = date_pattern.search(text)\n",
    "            if date_match:\n",
    "                date = date_match.group()\n",
    "                date = date.lstrip(\"Date\")\n",
    "\n",
    "        # Total Amount\n",
    "        if not total_amt:\n",
    "            total_match = total_amount_pattern.search(text)\n",
    "            if total_match:\n",
    "                total_amt = total_match.group(1)\n",
    "\n",
    "        # Extract Receipt No.\n",
    "        if not receipt_no:\n",
    "            receipt_match = receipt_no_pattern.search(text)\n",
    "            if receipt_match:\n",
    "                receipt_no = receipt_match.group(1)\n",
    "\n",
    "        # Extract Store Name\n",
    "        if not store_name:\n",
    "            if any(keyword in text.upper() for keyword in store_name_keywords):\n",
    "                store_name = text\n",
    "\n",
    "    return {\n",
    "        \"Receipt No\": receipt_no,\n",
    "        \"Date\": date,\n",
    "        \"Total Amount\": total_amt,\n",
    "        \"Store Name\": store_name,\n",
    "    }"
   ]
  },
  {
   "cell_type": "code",
   "execution_count": 4,
   "metadata": {},
   "outputs": [
    {
     "name": "stdout",
     "output_type": "stream",
     "text": [
      "[2025/02/28 16:14:27] ppocr DEBUG: Namespace(help='==SUPPRESS==', use_gpu=False, use_xpu=False, use_npu=False, use_mlu=False, ir_optim=True, use_tensorrt=False, min_subgraph_size=15, precision='fp32', gpu_mem=500, gpu_id=0, image_dir=None, page_num=0, det_algorithm='DB', det_model_dir='C:\\\\Users\\\\ADMIN/.paddleocr/whl\\\\det\\\\en\\\\en_PP-OCRv3_det_infer', det_limit_side_len=960, det_limit_type='max', det_box_type='quad', det_db_thresh=0.3, det_db_box_thresh=0.6, det_db_unclip_ratio=1.5, max_batch_size=10, use_dilation=False, det_db_score_mode='fast', det_east_score_thresh=0.8, det_east_cover_thresh=0.1, det_east_nms_thresh=0.2, det_sast_score_thresh=0.5, det_sast_nms_thresh=0.2, det_pse_thresh=0, det_pse_box_thresh=0.85, det_pse_min_area=16, det_pse_scale=1, scales=[8, 16, 32], alpha=1.0, beta=1.0, fourier_degree=5, rec_algorithm='SVTR_LCNet', rec_model_dir='C:\\\\Users\\\\ADMIN/.paddleocr/whl\\\\rec\\\\en\\\\en_PP-OCRv4_rec_infer', rec_image_inverse=True, rec_image_shape='3, 48, 320', rec_batch_num=6, max_text_length=25, rec_char_dict_path='d:\\\\InvoiceFieldExtraction\\\\source\\\\.venv\\\\Lib\\\\site-packages\\\\paddleocr\\\\ppocr\\\\utils\\\\en_dict.txt', use_space_char=True, vis_font_path='./doc/fonts/simfang.ttf', drop_score=0.5, e2e_algorithm='PGNet', e2e_model_dir=None, e2e_limit_side_len=768, e2e_limit_type='max', e2e_pgnet_score_thresh=0.5, e2e_char_dict_path='./ppocr/utils/ic15_dict.txt', e2e_pgnet_valid_set='totaltext', e2e_pgnet_mode='fast', use_angle_cls=True, cls_model_dir='C:\\\\Users\\\\ADMIN/.paddleocr/whl\\\\cls\\\\ch_ppocr_mobile_v2.0_cls_infer', cls_image_shape='3, 48, 192', label_list=['0', '180'], cls_batch_num=6, cls_thresh=0.9, enable_mkldnn=False, cpu_threads=10, use_pdserving=False, warmup=False, sr_model_dir=None, sr_image_shape='3, 32, 128', sr_batch_num=1, draw_img_save_dir='./inference_results', save_crop_res=False, crop_res_save_dir='./output', use_mp=False, total_process_num=1, process_id=0, benchmark=False, save_log_path='./log_output/', show_log=True, use_onnx=False, return_word_box=False, output='./output', table_max_len=488, table_algorithm='TableAttn', table_model_dir=None, merge_no_span_structure=True, table_char_dict_path=None, formula_algorithm='LaTeXOCR', formula_model_dir=None, formula_char_dict_path=None, formula_batch_num=1, layout_model_dir=None, layout_dict_path=None, layout_score_threshold=0.5, layout_nms_threshold=0.5, kie_algorithm='LayoutXLM', ser_model_dir=None, re_model_dir=None, use_visual_backbone=True, ser_dict_path='../train_data/XFUND/class_list_xfun.txt', ocr_order_method=None, mode='structure', image_orientation=False, layout=True, table=True, formula=False, ocr=True, recovery=False, recovery_to_markdown=False, use_pdf2docx_api=False, invert=False, binarize=False, alphacolor=(255, 255, 255), lang='en', det=True, rec=True, type='ocr', savefile=False, ocr_version='PP-OCRv4', structure_version='PP-StructureV2')\n"
     ]
    }
   ],
   "source": [
    "ocr = PaddleOCR(use_angle_cls=True, lang=\"en\")"
   ]
  },
  {
   "cell_type": "markdown",
   "metadata": {},
   "source": [
    "**CONVERT PDFs TO IMAGES**"
   ]
  },
  {
   "cell_type": "code",
   "execution_count": 5,
   "metadata": {},
   "outputs": [],
   "source": [
    "def pdf2jpg(file_path):\n",
    "    images = convert_from_path(file_path, poppler_path=r\"C:\\Users\\ADMIN\\poppler-24.08.0\\Library\\bin\")\n",
    "    \n",
    "    for i, image in enumerate(images):\n",
    "        img_filename = f\"{os.path.splitext(os.path.split(file_path)[1])[0]}.jpg\"\n",
    "        save_path = f'train_datasets/{img_filename}'\n",
    "        image.save(save_path, 'JPEG')"
   ]
  },
  {
   "cell_type": "markdown",
   "metadata": {},
   "source": [
    "**EXPERIMENTAL**"
   ]
  },
  {
   "cell_type": "code",
   "execution_count": null,
   "metadata": {},
   "outputs": [],
   "source": [
    "def ProcessImage(img):\n",
    "    gray_img = cv2.cvtColor(img, cv2.COLOR_BGR2GRAY)\n",
    "    # De-noising\n",
    "    denoised = cv2.fastNlMeansDenoising(gray_img, h=10)\n",
    "    # Binary Thresholding\n",
    "    _, thresh = cv2.threshold(denoised, 240, 255, cv2.THRESH_BINARY)\n",
    "    # Adaptive Thresholding\n",
    "    thresh1 = cv2.adaptiveThreshold(denoised, 255, cv2.ADAPTIVE_THRESH_GAUSSIAN_C, cv2.THRESH_BINARY, 15, 2)\n",
    "    thresh1_1 = cv2.adaptiveThreshold(denoised, 255, cv2.ADAPTIVE_THRESH_GAUSSIAN_C, cv2.THRESH_BINARY, 55, 3)\n",
    "    thresh2 = cv2.adaptiveThreshold(denoised, 255, cv2.ADAPTIVE_THRESH_MEAN_C, cv2.THRESH_BINARY, 55, 5)\n",
    "    \n",
    "    cv2.imshow(\"Thresh1_1\", thresh1_1)\n",
    "    cv2.imshow('Blurred', thresh1)\n",
    "    cv2.waitKey(0)\n",
    "    cv2.destroyAllWindows()\n",
    "    \n",
    "    \n",
    "img = cv2.imread('./train_datasets/X51005441401.jpg')\n",
    "ProcessImage(img)"
   ]
  },
  {
   "cell_type": "markdown",
   "metadata": {},
   "source": [
    "**MAIN FUNCTION**"
   ]
  },
  {
   "cell_type": "code",
   "execution_count": 9,
   "metadata": {},
   "outputs": [
    {
     "name": "stdout",
     "output_type": "stream",
     "text": [
      "[2025/02/28 16:28:05] ppocr DEBUG: dt_boxes num : 50, elapsed : 0.8498406410217285\n",
      "[2025/02/28 16:28:05] ppocr DEBUG: cls num  : 50, elapsed : 0.5440254211425781\n",
      "[2025/02/28 16:28:52] ppocr DEBUG: rec_res num  : 50, elapsed : 46.92593574523926\n",
      "[[[52.0, 131.0], [514.0, 131.0], [514.0, 163.0], [52.0, 163.0]], ('SANYUSTATIONERYSHOP', 0.9892673492431641)]\n",
      "[[[47.0, 177.0], [505.0, 181.0], [504.0, 203.0], [47.0, 200.0]], ('NO.31G&33GJALAN SETIA INDAH XU13/X', 0.9256612062454224)]\n",
      "[[[47.0, 200.0], [247.0, 203.0], [246.0, 226.0], [47.0, 222.0]], ('40170SETIA ALAM', 0.9318690896034241)]\n",
      "[[[47.0, 229.0], [434.0, 232.0], [433.0, 255.0], [47.0, 251.0]], ('Mobile/Whatsapps:+6012-9187937', 0.9704955220222473)]\n",
      "[[[47.0, 258.0], [268.0, 259.0], [267.0, 282.0], [47.0, 280.0]], ('Tel:+603-33624137', 0.9662122130393982)]\n",
      "[[[48.0, 287.0], [595.0, 298.0], [594.0, 327.0], [48.0, 308.0]], ('GSTIDNo:001531760640 TAX INVOICE', 0.9647992551326752)]\n",
      "[[[39.0, 314.0], [145.0, 314.0], [145.0, 337.0], [39.0, 337.0]], ('Owned By:', 0.9167392253875732)]\n",
      "[[[36.0, 337.0], [377.0, 340.0], [377.0, 363.0], [35.0, 359.0]], ('SANYU SUPPLY SDN BHD 1135772-K)', 0.9032568335533142)]\n",
      "[[[40.0, 392.0], [302.0, 393.0], [301.0, 417.0], [40.0, 416.0]], ('CASH SALES COUNTER', 0.9579277038574219)]\n",
      "[[[53.0, 458.0], [559.0, 461.0], [559.0, 484.0], [53.0, 480.0]], ('1.2044-0137 ARTLINE EG-4O GLUE STICK', 0.954637199640274)]\n",
      "[[[271.0, 485.0], [318.0, 485.0], [318.0, 509.0], [271.0, 509.0]], ('40G', 0.995249330997467)]\n",
      "[[[81.0, 517.0], [587.0, 517.0], [587.0, 545.0], [81.0, 540.0]], ('1X5.6000 5.60SR', 0.9818292856216431)]\n",
      "[[[53.0, 548.0], [585.0, 551.0], [585.0, 574.0], [53.0, 570.0]], ('2.2000-0002 IK YELLOW SIMILI PAPER-A4', 0.9651295244693756)]\n",
      "[[[273.0, 573.0], [492.0, 579.0], [491.0, 601.0], [272.0, 596.0]], (\"70GSM450's/REAM\", 0.9548518061637878)]\n",
      "[[[81.0, 606.0], [587.0, 609.0], [587.0, 632.0], [81.0, 628.0]], ('1X10.9000 10.90SR', 0.9914146959781647)]\n",
      "[[[27.0, 638.0], [530.0, 646.0], [530.0, 670.0], [27.0, 665.0]], ('Total Sales Inclusive GST @6% 16.50', 0.9537526071071625)]\n",
      "[[[240.0, 670.0], [530.0, 677.0], [530.0, 701.0], [240.0, 698.0]], ('Discount 0.00', 0.9970546066761017)]\n",
      "[[[239.0, 711.0], [532.0, 719.0], [532.0, 743.0], [239.0, 740.0]], ('Total 16.50', 0.997714102268219)]\n",
      "[[[239.0, 741.0], [532.0, 751.0], [532.0, 775.0], [238.0, 770.0]], ('Round Adj 0.00', 0.9910622239112854)]\n",
      "[[[240.0, 788.0], [532.0, 793.0], [532.0, 815.0], [240.0, 811.0]], ('Final Total 16.50', 0.9738568663597107)]\n",
      "[[[238.0, 839.0], [534.0, 846.0], [534.0, 875.0], [236.0, 868.0]], ('CASH 50.00', 0.9970771074295044)]\n",
      "[[[239.0, 873.0], [532.0, 880.0], [532.0, 904.0], [239.0, 901.0]], ('CHANGE 33.50', 0.9978948533535004)]\n",
      "[[[28.0, 915.0], [572.0, 920.0], [572.0, 948.0], [27.0, 939.0]], ('GST Summary Amount(RM) Tax(RM)', 0.937923476099968)]\n",
      "[[[27.0, 949.0], [569.0, 952.0], [569.0, 978.0], [27.0, 977.0]], ('SR@6% 15.57 0.93', 0.9951625317335129)]\n",
      "[[[29.0, 1026.0], [517.0, 1031.0], [517.0, 1054.0], [29.0, 1049.0]], ('INVNOCS-SA-0074397 Date28/03/2017', 0.9843870401382446)]\n",
      "[[[66.0, 1162.0], [569.0, 1167.0], [569.0, 1189.0], [66.0, 1184.0]], ('Goods sold are not Returnable & Refundable', 0.9553521275520325)]\n",
      "[[[115.0, 1212.0], [521.0, 1215.0], [521.0, 1238.0], [114.0, 1234.0]], ('THANKYOUFOR YOURPATRONAGE', 0.980344295501709)]\n",
      "[[[194.0, 1242.0], [440.0, 1246.0], [440.0, 1270.0], [193.0, 1267.0]], ('PLEASE COMEAGAIN.', 0.9661703705787659)]\n",
      "[[[118.0, 1296.0], [516.0, 1299.0], [516.0, 1321.0], [118.0, 1318.0]], ('TERIMA KASIH SILA DATANG LAGI', 0.9353029131889343)]\n",
      "[[[66.0, 1345.0], [568.0, 1352.0], [567.0, 1375.0], [66.0, 1368.0]], ('**PLEASE KEEP THIS RECEIPTFOR PROVE OF', 0.9230486154556274)]\n",
      "[[[48.0, 1381.0], [584.0, 1384.0], [583.0, 1407.0], [48.0, 1404.0]], ('PURCHASEDATEFOR I.T PRODUCT WARRANTY', 0.9531199932098389)]\n",
      "[[[243.0, 1413.0], [390.0, 1412.0], [390.0, 1434.0], [244.0, 1436.0]], ('PURPOSE **', 0.9208003282546997)]\n",
      "[[[86.0, 1461.0], [548.0, 1467.0], [548.0, 1494.0], [85.0, 1489.0]], ('Follow us in Facebook:Sanyu.Stationery', 0.980728268623352)]\n",
      "{'Receipt No': None, 'Date': '28/03/2017', 'Total Amount': '16.50', 'Store Name': 'SANYUSTATIONERYSHOP'}\n"
     ]
    }
   ],
   "source": [
    "file_path = \"./train_datasets/X51007339146.jpg\"\n",
    "if os.path.splitext(file_path)[1] == \".pdf\":\n",
    "    pdf2jpg(file_path)\n",
    "    new_file = f\"{os.path.splitext(os.path.split(file_path)[1])[0]}.jpg\"\n",
    "    # file_path = os.path.join('./train_datasets', new_file)\n",
    "    file_path = f\"train_datasets/{new_file}\"\n",
    "image = cv2.imread(file_path)\n",
    "\n",
    "result = ocr.ocr(file_path, cls=True)\n",
    "merged_result = merge_ocr_results(result)\n",
    "\n",
    "for res in merged_result:\n",
    "    print(res)\n",
    "        \n",
    "extracted_fields = extract_fields(merged_result)\n",
    "print(extracted_fields)\n",
    "    \n",
    "boxes = [res[0] for res in merged_result]\n",
    "texts = [res[1][0] for res in merged_result]\n",
    "scores = [res[1][1] for res in merged_result]\n",
    "    \n",
    "# Draw OCR results on the image\n",
    "image_with_boxes = draw_ocr(image, boxes, texts, scores, font_path=\"C:\\Windows\\Fonts\\Arial.ttf\")\n",
    "\n",
    "# Convert to OpenCV format\n",
    "image_with_boxes = cv2.cvtColor(np.array(image_with_boxes), cv2.COLOR_RGB2BGR)\n",
    "    \n",
    "cv2.imshow(\"OCR Results\", image_with_boxes)\n",
    "cv2.waitKey(0)\n",
    "cv2.destroyAllWindows()"
   ]
  },
  {
   "cell_type": "code",
   "execution_count": 10,
   "metadata": {},
   "outputs": [
    {
     "name": "stdout",
     "output_type": "stream",
     "text": [
      "Length of string : 35\n",
      "char: T | index : 0\n",
      "char: o | index : 1\n",
      "char: t | index : 2\n",
      "char: a | index : 3\n",
      "char: l | index : 4\n",
      "char:   | index : 5\n",
      "char: S | index : 6\n",
      "char: a | index : 7\n",
      "char: l | index : 8\n",
      "char: e | index : 9\n",
      "char: s | index : 10\n",
      "char:   | index : 11\n",
      "char: I | index : 12\n",
      "char: n | index : 13\n",
      "char: c | index : 14\n",
      "char: l | index : 15\n",
      "char: u | index : 16\n",
      "char: s | index : 17\n",
      "char: i | index : 18\n",
      "char: v | index : 19\n",
      "char: e | index : 20\n",
      "char:   | index : 21\n",
      "char: G | index : 22\n",
      "char: S | index : 23\n",
      "char: T | index : 24\n",
      "char:   | index : 25\n",
      "char: @ | index : 26\n",
      "char: 6 | index : 27\n",
      "char: % | index : 28\n",
      "char:   | index : 29\n",
      "char: 1 | index : 30\n",
      "char: 6 | index : 31\n",
      "char: . | index : 32\n",
      "char: 5 | index : 33\n",
      "char: 0 | index : 34\n"
     ]
    }
   ],
   "source": [
    "# Getting indices of each character in string\n",
    "s = \"Total Sales Inclusive GST @6% 16.50\"\n",
    "print(f\"Length of string : {len(s)}\")\n",
    "for i, char in enumerate(s):\n",
    "    print(f\"char: {char} | index : {i}\")"
   ]
  },
  {
   "cell_type": "code",
   "execution_count": null,
   "metadata": {},
   "outputs": [
    {
     "name": "stdout",
     "output_type": "stream",
     "text": [
      "invc_1[1]\n"
     ]
    }
   ],
   "source": [
    "############# Testing ##################\n",
    "file = './pdfs/invc_1[1].pdf'\n",
    "print(os.path.splitext(os.path.split(file)[1])[0])"
   ]
  }
 ],
 "metadata": {
  "kernelspec": {
   "display_name": ".venv",
   "language": "python",
   "name": "python3"
  },
  "language_info": {
   "codemirror_mode": {
    "name": "ipython",
    "version": 3
   },
   "file_extension": ".py",
   "mimetype": "text/x-python",
   "name": "python",
   "nbconvert_exporter": "python",
   "pygments_lexer": "ipython3",
   "version": "3.12.5"
  }
 },
 "nbformat": 4,
 "nbformat_minor": 2
}
