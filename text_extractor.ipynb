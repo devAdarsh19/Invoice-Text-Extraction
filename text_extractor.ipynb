{
 "cells": [
  {
   "cell_type": "code",
   "execution_count": 2,
   "metadata": {},
   "outputs": [
    {
     "name": "stderr",
     "output_type": "stream",
     "text": [
      "d:\\InvoiceFieldExtraction\\source\\.venv\\Lib\\site-packages\\paddle\\utils\\cpp_extension\\extension_utils.py:711: UserWarning: No ccache found. Please be aware that recompiling all source files may be required. You can download and install ccache from: https://github.com/ccache/ccache/blob/master/doc/INSTALL.md\n",
      "  warnings.warn(warning_message)\n"
     ]
    }
   ],
   "source": [
    "from paddleocr import PaddleOCR, draw_ocr\n",
    "import cv2\n",
    "import numpy as np\n",
    "import re\n",
    "import os\n",
    "from pdf2image import convert_from_path"
   ]
  },
  {
   "cell_type": "code",
   "execution_count": 3,
   "metadata": {},
   "outputs": [],
   "source": [
    "def merge_ocr_results(ocr_results, y_threshold=20):\n",
    "\n",
    "    # Sort OCR results\n",
    "    ocr_results.sort(key=lambda item: (item[0][0][1], item[0][0][0]))\n",
    "\n",
    "    # print(\"*************Debugging***********\")\n",
    "    # for idx in range(len(ocr_results)):\n",
    "    #     res = ocr_results[idx]\n",
    "    #     for line in res:\n",
    "    #         print(line)\n",
    "\n",
    "    merged_result = []\n",
    "    for idx in range(len(ocr_results)):\n",
    "        res = ocr_results[idx]\n",
    "        for box, (text, conf) in res:\n",
    "            _, y1 = box[0]\n",
    "            # x2, _ = box[1]\n",
    "\n",
    "            if not merged_result:\n",
    "                merged_result.append([box, (text, conf)])\n",
    "                continue\n",
    "\n",
    "            prev_box, (prev_text, prev_conf) = merged_result[-1]\n",
    "            _, prev_y1 = prev_box[0]\n",
    "\n",
    "            # print(f\"DEBUG : x1 - prev_x1 = {x1 - prev_x1}\")\n",
    "            # print(f\"DEBUG : y1 - prev_y1 = {y1 - prev_y1}\")\n",
    "\n",
    "            if abs(y1 - prev_y1) < y_threshold:\n",
    "                merged_txt = prev_text + \" \" + text\n",
    "                avg_conf = (conf + prev_conf) / 2\n",
    "                prev_box[1], prev_box[2] = box[1], box[2]\n",
    "                merged_result[-1] = [prev_box, (merged_txt, avg_conf)]\n",
    "            else:\n",
    "                merged_result.append([box, (text, conf)])\n",
    "\n",
    "    return merged_result"
   ]
  },
  {
   "cell_type": "code",
   "execution_count": 4,
   "metadata": {},
   "outputs": [],
   "source": [
    "def extract_fields(merged_result: list):\n",
    "\n",
    "    date, receipt_no, total_amt, store_name = None, None, None, None\n",
    "\n",
    "    date_pattern = re.compile(\n",
    "        r\"\\b(?:Date[:\\s]*)?(\\d{1,2}[-/]\\d{1,2}[-/]\\d{2,4})\\b|Date[:\\s]*(\\d{1,2}[-/]\\d{1,2}[-/]\\d{2,4})\",\n",
    "        re.IGNORECASE,\n",
    "    )\n",
    "    # date_pattern = re.compile(r'\\b(?:Date[:\\s]*)?(\\d{1,2}[-/]\\d{1,2}[-/]\\d{2,4})\\b', re.IGNORECASE)\n",
    "    total_amount_pattern = re.compile(\n",
    "        r\"TOTAL(?: AMOUNT|AMT\\.?|:)?\\s*(?:RM|USD|\\$)?\\s*(\\d+\\.\\d{2})\", re.IGNORECASE\n",
    "    )\n",
    "    receipt_no_pattern = re.compile(\n",
    "        r\"(?:Receipt No|Invoice No|Invoice#|Inv#|Bill No|Document No|Room No|Doc No).*?(\\S+)\",\n",
    "        re.IGNORECASE\n",
    "    )\n",
    "    store_name_keywords = [\"HOME\", \"STORE\", \"SHOP\", \"MARKET\", \"GIFT\", \"MART\", \"RETAIL\"]\n",
    "\n",
    "    for entry in merged_result:\n",
    "        text = entry[1][0].strip()\n",
    "\n",
    "        if not date:\n",
    "            date_match = date_pattern.search(text)\n",
    "            if date_match:\n",
    "                date = date_match.group()\n",
    "                date = date.lstrip(\"Date\")\n",
    "\n",
    "        if not total_amt:\n",
    "            total_match = total_amount_pattern.search(text)\n",
    "            if total_match:\n",
    "                total_amt = total_match.group(1)\n",
    "\n",
    "        # Extract Receipt No.\n",
    "        if not receipt_no:\n",
    "            receipt_match = receipt_no_pattern.search(text)\n",
    "            if receipt_match:\n",
    "                receipt_no = receipt_match.group(1)\n",
    "\n",
    "        # Extract Store Name\n",
    "        if not store_name:\n",
    "            if any(keyword in text.upper() for keyword in store_name_keywords):\n",
    "                store_name = text\n",
    "\n",
    "    return {\n",
    "        \"Receipt No\": receipt_no,\n",
    "        \"Date\": date,\n",
    "        \"Total Amount\": total_amt,\n",
    "        \"Store Name\": store_name,\n",
    "    }"
   ]
  },
  {
   "cell_type": "code",
   "execution_count": 5,
   "metadata": {},
   "outputs": [
    {
     "name": "stdout",
     "output_type": "stream",
     "text": [
      "[2025/02/27 16:07:31] ppocr DEBUG: Namespace(help='==SUPPRESS==', use_gpu=False, use_xpu=False, use_npu=False, use_mlu=False, ir_optim=True, use_tensorrt=False, min_subgraph_size=15, precision='fp32', gpu_mem=500, gpu_id=0, image_dir=None, page_num=0, det_algorithm='DB', det_model_dir='C:\\\\Users\\\\ADMIN/.paddleocr/whl\\\\det\\\\en\\\\en_PP-OCRv3_det_infer', det_limit_side_len=960, det_limit_type='max', det_box_type='quad', det_db_thresh=0.3, det_db_box_thresh=0.6, det_db_unclip_ratio=1.5, max_batch_size=10, use_dilation=False, det_db_score_mode='fast', det_east_score_thresh=0.8, det_east_cover_thresh=0.1, det_east_nms_thresh=0.2, det_sast_score_thresh=0.5, det_sast_nms_thresh=0.2, det_pse_thresh=0, det_pse_box_thresh=0.85, det_pse_min_area=16, det_pse_scale=1, scales=[8, 16, 32], alpha=1.0, beta=1.0, fourier_degree=5, rec_algorithm='SVTR_LCNet', rec_model_dir='C:\\\\Users\\\\ADMIN/.paddleocr/whl\\\\rec\\\\en\\\\en_PP-OCRv4_rec_infer', rec_image_inverse=True, rec_image_shape='3, 48, 320', rec_batch_num=6, max_text_length=25, rec_char_dict_path='d:\\\\InvoiceFieldExtraction\\\\source\\\\.venv\\\\Lib\\\\site-packages\\\\paddleocr\\\\ppocr\\\\utils\\\\en_dict.txt', use_space_char=True, vis_font_path='./doc/fonts/simfang.ttf', drop_score=0.5, e2e_algorithm='PGNet', e2e_model_dir=None, e2e_limit_side_len=768, e2e_limit_type='max', e2e_pgnet_score_thresh=0.5, e2e_char_dict_path='./ppocr/utils/ic15_dict.txt', e2e_pgnet_valid_set='totaltext', e2e_pgnet_mode='fast', use_angle_cls=True, cls_model_dir='C:\\\\Users\\\\ADMIN/.paddleocr/whl\\\\cls\\\\ch_ppocr_mobile_v2.0_cls_infer', cls_image_shape='3, 48, 192', label_list=['0', '180'], cls_batch_num=6, cls_thresh=0.9, enable_mkldnn=False, cpu_threads=10, use_pdserving=False, warmup=False, sr_model_dir=None, sr_image_shape='3, 32, 128', sr_batch_num=1, draw_img_save_dir='./inference_results', save_crop_res=False, crop_res_save_dir='./output', use_mp=False, total_process_num=1, process_id=0, benchmark=False, save_log_path='./log_output/', show_log=True, use_onnx=False, return_word_box=False, output='./output', table_max_len=488, table_algorithm='TableAttn', table_model_dir=None, merge_no_span_structure=True, table_char_dict_path=None, formula_algorithm='LaTeXOCR', formula_model_dir=None, formula_char_dict_path=None, formula_batch_num=1, layout_model_dir=None, layout_dict_path=None, layout_score_threshold=0.5, layout_nms_threshold=0.5, kie_algorithm='LayoutXLM', ser_model_dir=None, re_model_dir=None, use_visual_backbone=True, ser_dict_path='../train_data/XFUND/class_list_xfun.txt', ocr_order_method=None, mode='structure', image_orientation=False, layout=True, table=True, formula=False, ocr=True, recovery=False, recovery_to_markdown=False, use_pdf2docx_api=False, invert=False, binarize=False, alphacolor=(255, 255, 255), lang='en', det=True, rec=True, type='ocr', savefile=False, ocr_version='PP-OCRv4', structure_version='PP-StructureV2')\n"
     ]
    }
   ],
   "source": [
    "ocr = PaddleOCR(use_angle_cls=True, lang=\"en\")"
   ]
  },
  {
   "cell_type": "code",
   "execution_count": 18,
   "metadata": {},
   "outputs": [],
   "source": [
    "def pdf2jpg(file_path):\n",
    "    images = convert_from_path(file_path, poppler_path=r\"C:\\Users\\ADMIN\\poppler-24.08.0\\Library\\bin\")\n",
    "    \n",
    "    for i, image in enumerate(images):\n",
    "        img_filename = f\"{os.path.splitext(os.path.split(file_path)[1])[0]}.jpg\"\n",
    "        save_path = f'train_datasets/{img_filename}'\n",
    "        image.save(save_path, 'JPEG')"
   ]
  },
  {
   "cell_type": "code",
   "execution_count": 16,
   "metadata": {},
   "outputs": [],
   "source": [
    "def ProcessImage(img):\n",
    "    \n",
    "    gray_img = cv2.cvtColor(img, cv2.COLOR_BGR2GRAY)\n",
    "    # De-noising\n",
    "    denoised = cv2.fastNlMeansDenoising(gray_img, h=10)\n",
    "    _, thresh = cv2.threshold(denoised, 240, 255, cv2.THRESH_BINARY)\n",
    "    # Adaptive Thresholding\n",
    "    thresh1 = cv2.adaptiveThreshold(denoised, 255, cv2.ADAPTIVE_THRESH_GAUSSIAN_C, cv2.THRESH_BINARY, 15, 2)\n",
    "    thresh1_1 = cv2.adaptiveThreshold(denoised, 255, cv2.ADAPTIVE_THRESH_GAUSSIAN_C, cv2.THRESH_BINARY, 55, 3)\n",
    "    thresh2 = cv2.adaptiveThreshold(denoised, 255, cv2.ADAPTIVE_THRESH_MEAN_C, cv2.THRESH_BINARY, 55, 5)\n",
    "    \n",
    "    cv2.imshow(\"Thresh1_1\", thresh1_1)\n",
    "    cv2.imshow('Blurred', thresh1)\n",
    "    cv2.waitKey(0)\n",
    "    cv2.destroyAllWindows()\n",
    "    \n",
    "# img = './train_datasets/X00016469612.jpg'\n",
    "img = cv2.imread('./train_datasets/X00016469622.jpg')\n",
    "ProcessImage(img)"
   ]
  },
  {
   "cell_type": "code",
   "execution_count": 21,
   "metadata": {},
   "outputs": [
    {
     "name": "stdout",
     "output_type": "stream",
     "text": [
      "[2025/02/27 16:21:05] ppocr DEBUG: dt_boxes num : 73, elapsed : 0.5772602558135986\n",
      "[2025/02/27 16:21:06] ppocr DEBUG: cls num  : 73, elapsed : 0.6569104194641113\n",
      "[2025/02/27 16:22:45] ppocr DEBUG: rec_res num  : 73, elapsed : 99.57345128059387\n",
      "[[[428.0, 166.0], [1313.0, 156.0], [1314.0, 214.0], [428.0, 224.0]], ('r0.o.uu ojlailg qinJl Jgml &dhausg', 0.5465230941772461)]\n",
      "[[[428.0, 231.0], [1326.0, 241.0], [1325.0, 300.0], [428.0, 290.0]], ('Al noor Projects Engineering & Trading LLC', 0.9619042277336121)]\n",
      "[[[681.0, 312.0], [1034.0, 299.0], [1036.0, 348.0], [683.0, 361.0]], ('3PU:231611480', 0.7996793985366821)]\n",
      "[[[648.0, 375.0], [1109.0, 421.0], [1103.0, 465.0], [647.0, 419.0]], (\"TAX INVOICE 'ENTERED\", 0.9661613702774048)]\n",
      "[[[932.0, 441.0], [1382.0, 436.0], [1383.0, 470.0], [925.0, 493.0]], ('IN THE Date:06.06.2023', 0.9488338530063629)]\n",
      "[[[209.0, 466.0], [1121.0, 516.0], [1114.0, 568.0], [209.0, 497.0]], ('REFANP/INV/5198/2023/AMC57 COMPUTER', 0.987878829240799)]\n",
      "[[[211.0, 502.0], [553.0, 497.0], [554.0, 524.0], [212.0, 529.0]], ('OUR VATIN-OM110005187X', 0.9079000949859619)]\n",
      "[[[211.0, 551.0], [870.0, 536.0], [871.0, 567.0], [212.0, 583.0]], ('M/s.SHEIKH MUSTAHIL AHMED ALIAL MASHANT', 0.92996746301651)]\n",
      "[[[211.0, 590.0], [639.0, 582.0], [640.0, 614.0], [212.0, 622.0]], ('P.O BOX.488Postal Code.112Ruwi', 0.9174509644508362)]\n",
      "[[[214.0, 631.0], [418.0, 628.0], [418.0, 655.0], [214.0, 658.0]], ('Sultanate of Oman', 0.9264320135116577)]\n",
      "[[[214.0, 665.0], [489.0, 658.0], [490.0, 689.0], [215.0, 697.0]], ('VATIN-OM1100048574', 0.9404166340827942)]\n",
      "[[[221.0, 712.0], [1392.0, 684.0], [1393.0, 716.0], [222.0, 743.0]], ('Subject-Dismantling Of Existing 7.5 TR CHW FCU & Supply & Installation of 6.OTR CHW FCU at', 0.9039855003356934)]\n",
      "[[[329.0, 741.0], [1394.0, 714.0], [1395.0, 748.0], [330.0, 775.0]], ('Musandam BuildingQuotation No.ANP/QUO/3480/2023/AMC 57 Dated 30.01.2023(Your PO No.', 0.9387995600700378)]\n",
      "[[[329.0, 773.0], [809.0, 760.0], [810.0, 792.0], [330.0, 804.0]], ('2390300560Dated20.04.2023 RO.1380.000)', 0.9696428179740906)]\n",
      "[[[332.0, 824.0], [792.0, 816.0], [792.0, 848.0], [332.0, 855.0]], ('Closure Report Nos24939Dt-04.6.2023', 0.9518046975135803)]\n",
      "[[[711.0, 875.0], [1021.0, 870.0], [1021.0, 896.0], [711.0, 902.0]], ('BALANCE PAYMENT 50%', 0.9380449056625366)]\n",
      "[[[224.0, 928.0], [317.0, 928.0], [317.0, 955.0], [224.0, 955.0]], ('Dear Sir,', 0.9503880739212036)]\n",
      "[[[219.0, 960.0], [1195.0, 940.0], [1196.0, 974.0], [219.0, 994.0]], ('With reference to the above please find our Additional Maintenance Invoice as description below', 0.9596862196922302)]\n",
      "[[[1018.0, 989.0], [915.0, 991.0], [915.0, 1023.0], [1019.0, 1024.0]], ('QntyUnit Price AMOUNT S.No. DESCRIPTION OF THE SERVICE DONE', 0.9492731243371964)]\n",
      "[[[339.0, 1041.0], [1239.0, 1021.0], [1240.0, 1055.0], [340.0, 1075.0]], ('Supply & Installation Or SKMChille Waler FCU 6.0 TR Modl NoCYP-30/3WGMade  UAE ForF', 0.7953247427940369)]\n",
      "[[[337.0, 1067.0], [1409.0, 1062.0], [1409.0, 1089.0], [337.0, 1099.0]], ('91 at Musandam Building Faicmion Or Gl Ducting On Mouth ConectionSupply & Installation 3 Way 1380.000', 0.8984739184379578)]\n",
      "[[[339.0, 1094.0], [1197.0, 1074.0], [1198.0, 1106.0], [340.0, 1126.0]], ('Valecr &ThemG ValsSinrCHw FgTeingCossiingnF9', 0.7230393886566162)]\n",
      "[[[1171.0, 1135.0], [1412.0, 1133.0], [1412.0, 1160.0], [1171.0, 1162.0]], ('TOTAL 1,380.000', 0.976481556892395)]\n",
      "[[[1163.0, 1170.0], [1414.0, 1167.0], [1414.0, 1194.0], [1163.0, 1196.0]], ('VAT5% 69.000', 0.9896924793720245)]\n",
      "[[[1026.0, 1206.0], [1415.0, 1193.0], [1418.0, 1227.0], [1026.0, 1230.0]], ('TOTAL Including VAT 1,449.000', 0.9376190602779388)]\n",
      "[[[974.0, 1240.0], [1417.0, 1235.0], [1417.0, 1262.0], [975.0, 1272.0]], ('50%Advance Payment Paid 690.000', 0.9643042683601379)]\n",
      "[[[1168.0, 1272.0], [1420.0, 1261.0], [1423.0, 1295.0], [1168.0, 1299.0]], ('VAT5% 34.500', 0.990774929523468)]\n",
      "[[[996.0, 1304.0], [1422.0, 1301.0], [1422.0, 1328.0], [997.0, 1335.0]], ('TOTAL Advance Payment 724.500', 0.9667789936065674)]\n",
      "[[[1097.0, 1340.0], [1419.0, 1335.0], [1419.0, 1362.0], [1097.0, 1367.0]], ('Balance Amount 690.000', 0.9860577881336212)]\n",
      "[[[1171.0, 1369.0], [1422.0, 1364.0], [1422.0, 1391.0], [1171.0, 1396.0]], ('VAT5% 34.500', 0.9886663854122162)]\n",
      "[[[1080.0, 1406.0], [1430.0, 1393.0], [1432.0, 1420.0], [1080.0, 1430.0]], ('TOTAL Balance 724.500', 0.95352703332901)]\n",
      "[[[233.0, 1457.0], [1045.0, 1442.0], [1046.0, 1474.0], [234.0, 1489.0]], ('Amount in words:Omani Rials Seven Hundred Twenty Four & Baiza 500 only', 0.9487215280532837)]\n",
      "[[[239.0, 1530.0], [354.0, 1530.0], [354.0, 1557.0], [239.0, 1557.0]], ('Thank you,', 0.9468749165534973)]\n",
      "[[[233.0, 1562.0], [779.0, 1552.0], [780.0, 1584.0], [234.0, 1594.0]], ('For Al Noor Projects Engineering & Trading LLC', 0.9380684494972229)]\n",
      "[[[1040.0, 1608.0], [1262.0, 1605.0], [1262.0, 1640.0], [1041.0, 1642.0]], ('Receivers Signature', 0.9784522652626038)]\n",
      "[[[1048.0, 1652.0], [509.0, 1664.0], [509.0, 1696.0], [1048.0, 1679.0]], ('Stamp&Date CommerciaTDepartment', 0.9786405861377716)]\n",
      "[[[1015.0, 1687.0], [1496.0, 1656.0], [1499.0, 1707.0], [1018.0, 1738.0]], ('2390300560n20.04:23', 0.8703252077102661)]\n",
      "[[[244.0, 1740.0], [1499.0, 1727.0], [1502.0, 1771.0], [244.0, 1764.0]], ('Bank Details:- CEIPTNO230852DATE00623', 0.8696324825286865)]\n",
      "[[[241.0, 1774.0], [873.0, 1766.0], [873.0, 1798.0], [241.0, 1806.0]], ('Account NameAl Noor Projects Engineering & Trading LLC', 0.9011034965515137)]\n",
      "[[[241.0, 1811.0], [1314.0, 1825.0], [1314.0, 1852.0], [242.0, 1842.0]], ('Bank NameOman Arab Bank DATE', 0.9520390033721924)]\n",
      "[[[246.0, 1845.0], [1077.0, 1840.0], [1077.0, 1864.0], [247.0, 1876.0]], ('Account No.:3101-469855-500 P.VNO', 0.9068668782711029)]\n",
      "[[[241.0, 1876.0], [592.0, 1869.0], [593.0, 1900.0], [242.0, 1908.0]], ('Swift Code:OMABOMRU XXX', 0.9434475302696228)]\n",
      "[[[261.0, 1944.0], [1132.0, 1944.0], [1132.0, 1976.0], [261.0, 1976.0]], ('A s', 0.5397704243659973)]\n",
      "[[[211.0, 1976.0], [1427.0, 1971.0], [1427.0, 2003.0], [212.0, 2008.0]], ('C.R.No.1010565P.O.8x1047PC114Hay A-MinaSulanate l Oman.Tel.+9682476 2002.24762003.Fax+96B2476 940', 0.8799381256103516)]\n",
      "[[[243.0, 2008.0], [1400.0, 2003.0], [1400.0, 2034.0], [244.0, 2039.0]], ('Email: alnoorprojects.oman@gmail.com,info@alnoorprojects.com Website:www.alnoorprojects.com', 0.9505353569984436)]\n",
      "[[[138.0, 2112.0], [212.0, 2112.0], [212.0, 2139.0], [138.0, 2139.0]], ('None:', 0.9369427561759949)]\n",
      "[[[138.0, 2137.0], [214.0, 2137.0], [214.0, 2161.0], [138.0, 2161.0]], ('Mobile', 0.9604870676994324)]\n",
      "[[[280.0, 2166.0], [1336.0, 2166.0], [1336.0, 2190.0], [280.0, 2190.0]], (\"*Orlgnal-Service White-Cllend slye-Admin *Pink-Accounh 'Green-File\", 0.8058400489389896)]\n",
      "{'Receipt No': None, 'Date': None, 'Total Amount': None, 'Store Name': None}\n"
     ]
    }
   ],
   "source": [
    "file_path = \"./pdfs/invc_3[1].pdf\"\n",
    "if os.path.splitext(file_path)[1] == \".pdf\":\n",
    "    pdf2jpg(file_path)\n",
    "    new_file = f\"{os.path.splitext(os.path.split(file_path)[1])[0]}.jpg\"\n",
    "    # file_path = os.path.join('./train_datasets', new_file)\n",
    "    file_path = f\"train_datasets/{new_file}\"\n",
    "image = cv2.imread(file_path)\n",
    "\n",
    "result = ocr.ocr(file_path, cls=True)\n",
    "merged_result = merge_ocr_results(result)\n",
    "\n",
    "for res in merged_result:\n",
    "    print(res)\n",
    "        \n",
    "extracted_fields = extract_fields(merged_result)\n",
    "print(extracted_fields)\n",
    "    \n",
    "boxes = [res[0] for res in merged_result]\n",
    "texts = [res[1][0] for res in merged_result]\n",
    "scores = [res[1][1] for res in merged_result]\n",
    "    \n",
    "# Draw OCR results on the image\n",
    "image_with_boxes = draw_ocr(image, boxes, texts, scores, font_path=\"C:\\Windows\\Fonts\\Arial.ttf\")\n",
    "\n",
    "# Convert to OpenCV format\n",
    "image_with_boxes = cv2.cvtColor(np.array(image_with_boxes), cv2.COLOR_RGB2BGR)\n",
    "    \n",
    "cv2.imshow(\"OCR Results\", image_with_boxes)\n",
    "cv2.waitKey(0)\n",
    "cv2.destroyAllWindows()"
   ]
  },
  {
   "cell_type": "code",
   "execution_count": 135,
   "metadata": {},
   "outputs": [
    {
     "name": "stdout",
     "output_type": "stream",
     "text": [
      "Length of string : 24\n",
      "char: I | index : 0\n",
      "char: n | index : 1\n",
      "char: v | index : 2\n",
      "char: o | index : 3\n",
      "char: i | index : 4\n",
      "char: c | index : 5\n",
      "char: e | index : 6\n",
      "char:   | index : 7\n",
      "char: D | index : 8\n",
      "char: a | index : 9\n",
      "char: t | index : 10\n",
      "char: e | index : 11\n",
      "char: : | index : 12\n",
      "char:   | index : 13\n",
      "char: 0 | index : 14\n",
      "char: 3 | index : 15\n",
      "char: / | index : 16\n",
      "char: 1 | index : 17\n",
      "char: 2 | index : 18\n",
      "char: / | index : 19\n",
      "char: 2 | index : 20\n",
      "char: 0 | index : 21\n",
      "char: 2 | index : 22\n",
      "char: 1 | index : 23\n"
     ]
    }
   ],
   "source": [
    "s = \"Invoice Date: 03/12/2021\"\n",
    "print(f\"Length of string : {len(s)}\")\n",
    "for i, char in enumerate(s):\n",
    "    print(f\"char: {char} | index : {i}\")"
   ]
  },
  {
   "cell_type": "code",
   "execution_count": 14,
   "metadata": {},
   "outputs": [
    {
     "name": "stdout",
     "output_type": "stream",
     "text": [
      "invc_1[1]\n"
     ]
    }
   ],
   "source": [
    "file = './pdfs/invc_1[1].pdf'\n",
    "print(os.path.splitext(os.path.split(file)[1])[0])"
   ]
  }
 ],
 "metadata": {
  "kernelspec": {
   "display_name": ".venv",
   "language": "python",
   "name": "python3"
  },
  "language_info": {
   "codemirror_mode": {
    "name": "ipython",
    "version": 3
   },
   "file_extension": ".py",
   "mimetype": "text/x-python",
   "name": "python",
   "nbconvert_exporter": "python",
   "pygments_lexer": "ipython3",
   "version": "3.12.5"
  }
 },
 "nbformat": 4,
 "nbformat_minor": 2
}
