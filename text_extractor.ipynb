{
 "cells": [
  {
   "cell_type": "code",
   "execution_count": 2,
   "metadata": {},
   "outputs": [
    {
     "name": "stderr",
     "output_type": "stream",
     "text": [
      "d:\\InvoiceFieldExtraction\\source\\.venv\\Lib\\site-packages\\paddle\\utils\\cpp_extension\\extension_utils.py:711: UserWarning: No ccache found. Please be aware that recompiling all source files may be required. You can download and install ccache from: https://github.com/ccache/ccache/blob/master/doc/INSTALL.md\n",
      "  warnings.warn(warning_message)\n"
     ]
    }
   ],
   "source": [
    "from paddleocr import PaddleOCR, draw_ocr\n",
    "import cv2\n",
    "import numpy as np\n",
    "import re\n",
    "import os\n",
    "from pdf2image import convert_from_path"
   ]
  },
  {
   "cell_type": "markdown",
   "metadata": {},
   "source": [
    "**MERGE RESULTS ON THE SAME LINE**"
   ]
  },
  {
   "cell_type": "code",
   "execution_count": 3,
   "metadata": {},
   "outputs": [],
   "source": [
    "def merge_ocr_results(ocr_results, y_threshold=20):\n",
    "\n",
    "    # Sort OCR results\n",
    "    ocr_results.sort(key=lambda item: (item[0][0][1], item[0][0][0]))\n",
    "\n",
    "    # print(\"*************Debugging***********\")\n",
    "    # for idx in range(len(ocr_results)):\n",
    "    #     res = ocr_results[idx]\n",
    "    #     for line in res:\n",
    "    #         print(line)\n",
    "\n",
    "    merged_result = []\n",
    "    for idx in range(len(ocr_results)):\n",
    "        res = ocr_results[idx]\n",
    "        for box, (text, conf) in res:\n",
    "            _, y1 = box[0]\n",
    "            # x2, _ = box[1]\n",
    "\n",
    "            if not merged_result:\n",
    "                merged_result.append([box, (text, conf)])\n",
    "                continue\n",
    "\n",
    "            prev_box, (prev_text, prev_conf) = merged_result[-1]\n",
    "            _, prev_y1 = prev_box[0]\n",
    "\n",
    "            # print(f\"DEBUG : x1 - prev_x1 = {x1 - prev_x1}\")\n",
    "            # print(f\"DEBUG : y1 - prev_y1 = {y1 - prev_y1}\")\n",
    "\n",
    "            if abs(y1 - prev_y1) < y_threshold:\n",
    "                merged_txt = prev_text + \" \" + text\n",
    "                avg_conf = (conf + prev_conf) / 2\n",
    "                prev_box[1], prev_box[2] = box[1], box[2]\n",
    "                merged_result[-1] = [prev_box, (merged_txt, avg_conf)]\n",
    "            else:\n",
    "                merged_result.append([box, (text, conf)])\n",
    "\n",
    "    return merged_result"
   ]
  },
  {
   "cell_type": "markdown",
   "metadata": {},
   "source": [
    "**EXTRACT FIELDS USING REGEX PATTERNS**"
   ]
  },
  {
   "cell_type": "code",
   "execution_count": 4,
   "metadata": {},
   "outputs": [],
   "source": [
    "def extract_fields(merged_result: list):\n",
    "\n",
    "    date, receipt_no, total_amt, store_name = None, None, None, None\n",
    "\n",
    "    date_pattern = re.compile(\n",
    "        r\"\\b(?:Date[:\\s]*)?(\\d{1,2}[-/]\\d{1,2}[-/]\\d{2,4})\\b|Date[:\\s]*(\\d{1,2}[-/]\\d{1,2}[-/]\\d{2,4})\",\n",
    "        re.IGNORECASE,\n",
    "    )\n",
    "    # date_pattern = re.compile(r'\\b(?:Date[:\\s]*)?(\\d{1,2}[-/]\\d{1,2}[-/]\\d{2,4})\\b', re.IGNORECASE)\n",
    "    total_amount_pattern = re.compile(\n",
    "        r\"TOTAL(?: AMOUNT|AMT\\.?|:)?\\s*(?:RM|USD|\\$)?\\s*(\\d+\\.\\d{2})\", re.IGNORECASE\n",
    "    )\n",
    "    receipt_no_pattern = re.compile(\n",
    "        r\"(?:Receipt No|Invoice No|Invoice#|Inv#|Bill No|Document No|Room No|Doc No).*?(\\S+)\",\n",
    "        re.IGNORECASE\n",
    "    )\n",
    "    store_name_keywords = [\"HOME\", \"STORE\", \"SHOP\", \"MARKET\", \"GIFT\", \"MART\", \"RETAIL\"]\n",
    "\n",
    "    for entry in merged_result:\n",
    "        text = entry[1][0].strip()\n",
    "\n",
    "        # Date\n",
    "        if not date:\n",
    "            date_match = date_pattern.search(text)\n",
    "            if date_match:\n",
    "                date = date_match.group()\n",
    "                date = date.lstrip(\"Date\")\n",
    "\n",
    "        # Total Amount\n",
    "        if not total_amt:\n",
    "            total_match = total_amount_pattern.search(text)\n",
    "            if total_match:\n",
    "                total_amt = total_match.group(1)\n",
    "\n",
    "        # Extract Receipt No.\n",
    "        if not receipt_no:\n",
    "            receipt_match = receipt_no_pattern.search(text)\n",
    "            if receipt_match:\n",
    "                receipt_no = receipt_match.group(1)\n",
    "\n",
    "        # Extract Store Name\n",
    "        if not store_name:\n",
    "            if any(keyword in text.upper() for keyword in store_name_keywords):\n",
    "                store_name = text\n",
    "\n",
    "    return {\n",
    "        \"Receipt No\": receipt_no,\n",
    "        \"Date\": date,\n",
    "        \"Total Amount\": total_amt,\n",
    "        \"Store Name\": store_name,\n",
    "    }"
   ]
  },
  {
   "cell_type": "code",
   "execution_count": 5,
   "metadata": {},
   "outputs": [
    {
     "name": "stdout",
     "output_type": "stream",
     "text": [
      "[2025/03/05 00:53:08] ppocr DEBUG: Namespace(help='==SUPPRESS==', use_gpu=False, use_xpu=False, use_npu=False, use_mlu=False, ir_optim=True, use_tensorrt=False, min_subgraph_size=15, precision='fp32', gpu_mem=500, gpu_id=0, image_dir=None, page_num=0, det_algorithm='DB', det_model_dir='C:\\\\Users\\\\ADMIN/.paddleocr/whl\\\\det\\\\en\\\\en_PP-OCRv3_det_infer', det_limit_side_len=960, det_limit_type='max', det_box_type='quad', det_db_thresh=0.3, det_db_box_thresh=0.6, det_db_unclip_ratio=1.5, max_batch_size=10, use_dilation=False, det_db_score_mode='fast', det_east_score_thresh=0.8, det_east_cover_thresh=0.1, det_east_nms_thresh=0.2, det_sast_score_thresh=0.5, det_sast_nms_thresh=0.2, det_pse_thresh=0, det_pse_box_thresh=0.85, det_pse_min_area=16, det_pse_scale=1, scales=[8, 16, 32], alpha=1.0, beta=1.0, fourier_degree=5, rec_algorithm='SVTR_LCNet', rec_model_dir='C:\\\\Users\\\\ADMIN/.paddleocr/whl\\\\rec\\\\en\\\\en_PP-OCRv4_rec_infer', rec_image_inverse=True, rec_image_shape='3, 48, 320', rec_batch_num=6, max_text_length=25, rec_char_dict_path='d:\\\\InvoiceFieldExtraction\\\\source\\\\.venv\\\\Lib\\\\site-packages\\\\paddleocr\\\\ppocr\\\\utils\\\\en_dict.txt', use_space_char=True, vis_font_path='./doc/fonts/simfang.ttf', drop_score=0.5, e2e_algorithm='PGNet', e2e_model_dir=None, e2e_limit_side_len=768, e2e_limit_type='max', e2e_pgnet_score_thresh=0.5, e2e_char_dict_path='./ppocr/utils/ic15_dict.txt', e2e_pgnet_valid_set='totaltext', e2e_pgnet_mode='fast', use_angle_cls=True, cls_model_dir='C:\\\\Users\\\\ADMIN/.paddleocr/whl\\\\cls\\\\ch_ppocr_mobile_v2.0_cls_infer', cls_image_shape='3, 48, 192', label_list=['0', '180'], cls_batch_num=6, cls_thresh=0.9, enable_mkldnn=False, cpu_threads=10, use_pdserving=False, warmup=False, sr_model_dir=None, sr_image_shape='3, 32, 128', sr_batch_num=1, draw_img_save_dir='./inference_results', save_crop_res=False, crop_res_save_dir='./output', use_mp=False, total_process_num=1, process_id=0, benchmark=False, save_log_path='./log_output/', show_log=True, use_onnx=False, return_word_box=False, output='./output', table_max_len=488, table_algorithm='TableAttn', table_model_dir=None, merge_no_span_structure=True, table_char_dict_path=None, formula_algorithm='LaTeXOCR', formula_model_dir=None, formula_char_dict_path=None, formula_batch_num=1, layout_model_dir=None, layout_dict_path=None, layout_score_threshold=0.5, layout_nms_threshold=0.5, kie_algorithm='LayoutXLM', ser_model_dir=None, re_model_dir=None, use_visual_backbone=True, ser_dict_path='../train_data/XFUND/class_list_xfun.txt', ocr_order_method=None, mode='structure', image_orientation=False, layout=True, table=True, formula=False, ocr=True, recovery=False, recovery_to_markdown=False, use_pdf2docx_api=False, invert=False, binarize=False, alphacolor=(255, 255, 255), lang='en', det=True, rec=True, type='ocr', savefile=False, ocr_version='PP-OCRv4', structure_version='PP-StructureV2')\n"
     ]
    }
   ],
   "source": [
    "ocr = PaddleOCR(use_angle_cls=True, lang=\"en\")"
   ]
  },
  {
   "cell_type": "markdown",
   "metadata": {},
   "source": [
    "**CONVERT PDFs TO IMAGES**"
   ]
  },
  {
   "cell_type": "code",
   "execution_count": 6,
   "metadata": {},
   "outputs": [],
   "source": [
    "def pdf2jpg(file_path):\n",
    "    images = convert_from_path(file_path, poppler_path=r\"C:\\Users\\ADMIN\\poppler-24.08.0\\Library\\bin\")\n",
    "    \n",
    "    for i, image in enumerate(images):\n",
    "        img_filename = f\"{os.path.splitext(os.path.split(file_path)[1])[0]}.jpg\"\n",
    "        save_path = f'train_datasets/{img_filename}'\n",
    "        image.save(save_path, 'JPEG')"
   ]
  },
  {
   "cell_type": "markdown",
   "metadata": {},
   "source": [
    "**EXPERIMENTAL**"
   ]
  },
  {
   "cell_type": "code",
   "execution_count": 16,
   "metadata": {},
   "outputs": [],
   "source": [
    "def ProcessImage(img):\n",
    "    gray_img = cv2.cvtColor(img, cv2.COLOR_BGR2GRAY)\n",
    "    # De-noising\n",
    "    denoised = cv2.fastNlMeansDenoising(gray_img, h=10)\n",
    "    # Binary Thresholding\n",
    "    _, thresh = cv2.threshold(denoised, 240, 255, cv2.THRESH_BINARY)\n",
    "    # Adaptive Thresholding\n",
    "    thresh1 = cv2.adaptiveThreshold(denoised, 255, cv2.ADAPTIVE_THRESH_GAUSSIAN_C, cv2.THRESH_BINARY, 15, 2)\n",
    "    thresh1_1 = cv2.adaptiveThreshold(denoised, 255, cv2.ADAPTIVE_THRESH_GAUSSIAN_C, cv2.THRESH_BINARY, 55, 5)\n",
    "    thresh2 = cv2.adaptiveThreshold(denoised, 255, cv2.ADAPTIVE_THRESH_MEAN_C, cv2.THRESH_BINARY, 55, 5)\n",
    "    \n",
    "    cv2.namedWindow(\"Thresh1_1\", cv2.WINDOW_NORMAL)\n",
    "    cv2.resizeWindow(\"Thresh1_1\", 800, 600)\n",
    "    cv2.imshow(\"Thresh1_1\", thresh1_1)\n",
    "    # cv2.imshow('Blurred', thresh1)\n",
    "    cv2.waitKey(0)\n",
    "    cv2.destroyAllWindows()\n",
    "    \n",
    "    \n",
    "img = cv2.imread('./train_datasets/invc_1[1].jpg')\n",
    "ProcessImage(img)"
   ]
  },
  {
   "cell_type": "markdown",
   "metadata": {},
   "source": [
    "**MAIN FUNCTION**"
   ]
  },
  {
   "cell_type": "code",
   "execution_count": 7,
   "metadata": {},
   "outputs": [
    {
     "name": "stdout",
     "output_type": "stream",
     "text": [
      "[2025/03/05 00:53:19] ppocr DEBUG: dt_boxes num : 83, elapsed : 1.4147725105285645\n",
      "[2025/03/05 00:53:20] ppocr DEBUG: cls num  : 83, elapsed : 0.7702724933624268\n",
      "[2025/03/05 00:54:31] ppocr DEBUG: rec_res num  : 83, elapsed : 70.48939752578735\n",
      "[[[622.0, 149.0], [642.0, 149.0], [642.0, 178.0], [622.0, 178.0]], ('.', 0.646868884563446)]\n",
      "[[[578.0, 185.0], [669.0, 185.0], [669.0, 305.0], [578.0, 305.0]], ('GI', 0.7558761835098267)]\n",
      "[[[667.0, 217.0], [1075.0, 222.0], [1075.0, 263.0], [666.0, 258.0]], ('.ojaojliolal', 0.7501018643379211)]\n",
      "[[[665.0, 265.0], [1073.0, 276.0], [1072.0, 317.0], [664.0, 307.0]], ('Good Trust Trading LLC', 0.9806010723114014)]\n",
      "[[[1036.0, 361.0], [1373.0, 361.0], [1373.0, 402.0], [1036.0, 402.0]], ('3P:230110185', 0.8022782802581787)]\n",
      "[[[874.0, 484.0], [1412.0, 500.0], [1411.0, 541.0], [873.0, 526.0]], ('P.ON2312600022.DATE0-FB233', 0.7810434699058533)]\n",
      "[[[453.0, 556.0], [1454.0, 575.0], [1453.0, 609.0], [453.0, 580.0]], ('TAX INVOICE RECEIPTNO..3.DATE.-ZS', 0.8952183425426483)]\n",
      "[[[303.0, 602.0], [542.0, 605.0], [540.0, 632.0], [303.0, 619.0]], ('Dat 31.05.2023', 0.9891719818115234)]\n",
      "[[[296.0, 643.0], [1191.0, 651.0], [1191.0, 668.0], [295.0, 670.0]], ('Involco No B.P.VNo GT-FINMIS-LA-288-0523 A', 0.8999680131673813)]\n",
      "[[[295.0, 690.0], [999.0, 709.0], [999.0, 736.0], [295.0, 719.0]], ('VATIN OM1100056316 SIGNATURE', 0.9454973489046097)]\n",
      "[[[1451.0, 743.0], [1478.0, 743.0], [1478.0, 765.0], [1451.0, 765.0]], ('2', 0.5917142033576965)]\n",
      "[[[299.0, 781.0], [341.0, 788.0], [336.0, 815.0], [294.0, 808.0]], ('TT.', 0.7555446624755859)]\n",
      "[[[293.0, 809.0], [844.0, 821.0], [843.0, 855.0], [292.0, 843.0]], ('Integrated Quality Business (VATIN OM100018404)', 0.9102491140365601)]\n",
      "[[[291.0, 838.0], [569.0, 848.0], [567.0, 880.0], [290.0, 869.0]], ('Ruw).Sultanate ot Oman', 0.8738980889320374)]\n",
      "[[[586.0, 904.0], [1033.0, 914.0], [1033.0, 946.0], [585.0, 935.0]], (\"MIS Attendance for the Month of May'23\", 0.9277205467224121)]\n",
      "[[[296.0, 937.0], [1019.0, 951.0], [1017.0, 978.0], [291.0, 966.0]], ('SLNO category Unit Price \"Amount', 0.9142720401287079)]\n",
      "[[[721.0, 958.0], [1012.0, 980.0], [1009.0, 1009.0], [721.0, 984.0]], ('QTY (OMR) Remarks (OMR)', 0.9510525465011597)]\n",
      "[[[354.0, 999.0], [1034.0, 1012.0], [1032.0, 1046.0], [354.0, 1026.0]], ('1 Cleaners 9 200 1,800.000', 0.9681070744991302)]\n",
      "[[[347.0, 1043.0], [1255.0, 1065.0], [1254.0, 1097.0], [347.0, 1077.0]], ('2 Cleaners 200 154.839 Worked 24Days', 0.9607396498322487)]\n",
      "[[[344.0, 1089.0], [1248.0, 1109.0], [1246.0, 1143.0], [344.0, 1123.0]], ('3 Cleaners 1 200 6.452 Worked 1 Day', 0.9273216389119625)]\n",
      "[[[344.0, 1135.0], [1242.0, 1152.0], [1242.0, 1187.0], [344.0, 1170.0]], ('4 Cleaners (Female) 1 240 232.258 1 Day Absent', 0.9605520237237215)]\n",
      "[[[349.0, 1184.0], [1248.0, 1202.0], [1246.0, 1236.0], [349.0, 1211.0]], ('5 Cleaners (Female) 1 240 224.516 2 Days Absent', 0.9505197275429964)]\n",
      "[[[534.0, 1228.0], [1033.0, 1238.0], [1033.0, 1265.0], [534.0, 1257.0]], ('Total 13 2,418.065', 0.9749182760715485)]\n",
      "[[[619.0, 1257.0], [1036.0, 1273.0], [1034.0, 1307.0], [617.0, 1288.0]], ('VAT (5%) 120.903', 0.9303941130638123)]\n",
      "[[[608.0, 1301.0], [1038.0, 1308.0], [1038.0, 1335.0], [608.0, 1328.0]], ('Grand Total 2,538.968', 0.9615713655948639)]\n",
      "[[[283.0, 1357.0], [1233.0, 1379.0], [1232.0, 1413.0], [283.0, 1391.0]], ('In Words:Omani Ria Two Thousand Five Hundred Thirty Eight and 968/1000 Only', 0.9117907881736755)]\n",
      "[[[286.0, 1418.0], [807.0, 1430.0], [806.0, 1462.0], [285.0, 1450.0]], ('Payment Date: Immediate after recelpt of invoice', 0.9404281973838806)]\n",
      "[[[284.0, 1469.0], [436.0, 1477.0], [434.0, 1511.0], [282.0, 1503.0]], ('Bank Detalls:', 0.9034111499786377)]\n",
      "[[[281.0, 1498.0], [1058.0, 1516.0], [1057.0, 1550.0], [280.0, 1532.0]], ('Account Namo:Good Trust Trading L.L.C Bank Namc:Oman Arab Bank', 0.9392375946044922)]\n",
      "[[[283.0, 1527.0], [502.0, 1533.0], [501.0, 1564.0], [283.0, 1559.0]], ('Branch:Al Khuwair', 0.9223893880844116)]\n",
      "[[[281.0, 1557.0], [652.0, 1564.0], [651.0, 1596.0], [280.0, 1588.0]], ('Account Number:3104-6734-69500', 0.959924578666687)]\n",
      "[[[288.0, 1701.0], [600.0, 1701.0], [600.0, 1733.0], [288.0, 1720.0]], ('Fo Sood Trust Trading LL.C', 0.9653334021568298)]\n",
      "[[[654.0, 1752.0], [994.0, 1772.0], [993.0, 1799.0], [654.0, 1779.0]], ('FIrvorEio Sagar Nair', 0.7146919071674347)]\n",
      "[[[282.0, 1776.0], [1071.0, 1801.0], [1069.0, 1833.0], [280.0, 1810.0]], ('Ali AI Lawatl C.R.1371524 Managing Director', 0.8976969867944717)]\n",
      "[[[276.0, 1805.0], [989.0, 1828.0], [988.0, 1855.0], [275.0, 1839.0]], ('Head orFinance &Accounts Sultaate ol On 96698656', 0.8977885395288467)]\n",
      "{'Receipt No': None, 'Date': None, 'Total Amount': None, 'Store Name': None}\n"
     ]
    }
   ],
   "source": [
    "file_path = \"./train_datasets/invc_1[1].jpg\"\n",
    "if os.path.splitext(file_path)[1] == \".pdf\":\n",
    "    pdf2jpg(file_path)\n",
    "    new_file = f\"{os.path.splitext(os.path.split(file_path)[1])[0]}.jpg\"\n",
    "    # file_path = os.path.join('./train_datasets', new_file)\n",
    "    file_path = f\"train_datasets/{new_file}\"\n",
    "image = cv2.imread(file_path)\n",
    "\n",
    "result = ocr.ocr(file_path, cls=True)\n",
    "merged_result = merge_ocr_results(result)\n",
    "\n",
    "for res in merged_result:\n",
    "    print(res)\n",
    "        \n",
    "extracted_fields = extract_fields(merged_result)\n",
    "print(extracted_fields)\n",
    "    \n",
    "boxes = [res[0] for res in merged_result]\n",
    "texts = [res[1][0] for res in merged_result]\n",
    "scores = [res[1][1] for res in merged_result]\n",
    "    \n",
    "# Draw OCR results on the image\n",
    "image_with_boxes = draw_ocr(image, boxes, texts, scores, font_path=\"C:\\Windows\\Fonts\\Arial.ttf\")\n",
    "\n",
    "# Convert to OpenCV format\n",
    "image_with_boxes = cv2.cvtColor(np.array(image_with_boxes), cv2.COLOR_RGB2BGR)\n",
    "    \n",
    "cv2.imshow(\"OCR Results\", image_with_boxes)\n",
    "cv2.waitKey(0)\n",
    "cv2.destroyAllWindows()"
   ]
  },
  {
   "cell_type": "code",
   "execution_count": 10,
   "metadata": {},
   "outputs": [
    {
     "name": "stdout",
     "output_type": "stream",
     "text": [
      "Length of string : 35\n",
      "char: T | index : 0\n",
      "char: o | index : 1\n",
      "char: t | index : 2\n",
      "char: a | index : 3\n",
      "char: l | index : 4\n",
      "char:   | index : 5\n",
      "char: S | index : 6\n",
      "char: a | index : 7\n",
      "char: l | index : 8\n",
      "char: e | index : 9\n",
      "char: s | index : 10\n",
      "char:   | index : 11\n",
      "char: I | index : 12\n",
      "char: n | index : 13\n",
      "char: c | index : 14\n",
      "char: l | index : 15\n",
      "char: u | index : 16\n",
      "char: s | index : 17\n",
      "char: i | index : 18\n",
      "char: v | index : 19\n",
      "char: e | index : 20\n",
      "char:   | index : 21\n",
      "char: G | index : 22\n",
      "char: S | index : 23\n",
      "char: T | index : 24\n",
      "char:   | index : 25\n",
      "char: @ | index : 26\n",
      "char: 6 | index : 27\n",
      "char: % | index : 28\n",
      "char:   | index : 29\n",
      "char: 1 | index : 30\n",
      "char: 6 | index : 31\n",
      "char: . | index : 32\n",
      "char: 5 | index : 33\n",
      "char: 0 | index : 34\n"
     ]
    }
   ],
   "source": [
    "# Getting indices of each character in string\n",
    "s = \"Total Sales Inclusive GST @6% 16.50\"\n",
    "print(f\"Length of string : {len(s)}\")\n",
    "for i, char in enumerate(s):\n",
    "    print(f\"char: {char} | index : {i}\")"
   ]
  },
  {
   "cell_type": "code",
   "execution_count": null,
   "metadata": {},
   "outputs": [
    {
     "name": "stdout",
     "output_type": "stream",
     "text": [
      "invc_1[1]\n"
     ]
    }
   ],
   "source": [
    "############# Testing ##################\n",
    "file = './pdfs/invc_1[1].pdf'\n",
    "print(os.path.splitext(os.path.split(file)[1])[0])"
   ]
  }
 ],
 "metadata": {
  "kernelspec": {
   "display_name": ".venv",
   "language": "python",
   "name": "python3"
  },
  "language_info": {
   "codemirror_mode": {
    "name": "ipython",
    "version": 3
   },
   "file_extension": ".py",
   "mimetype": "text/x-python",
   "name": "python",
   "nbconvert_exporter": "python",
   "pygments_lexer": "ipython3",
   "version": "3.12.5"
  }
 },
 "nbformat": 4,
 "nbformat_minor": 2
}
